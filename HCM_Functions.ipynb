{
 "cells": [
  {
   "cell_type": "markdown",
   "id": "liquid-insulation",
   "metadata": {},
   "source": [
    "# Functions for HCM CNN"
   ]
  },
  {
   "cell_type": "markdown",
   "id": "determined-municipality",
   "metadata": {},
   "source": [
    "## Padding Function"
   ]
  },
  {
   "cell_type": "code",
   "execution_count": 1,
   "id": "express-amber",
   "metadata": {},
   "outputs": [],
   "source": [
    "import numpy as np\n",
    "import pandas as pd\n",
    "import math\n",
    "import random\n",
    "\n",
    "from scipy import ndimage\n",
    "from scipy import stats\n",
    "import sklearn as skl\n",
    "from sklearn import model_selection as m_s\n",
    "from skimage.transform import rescale\n",
    "import tensorflow as tf"
   ]
  },
  {
   "cell_type": "code",
   "execution_count": 2,
   "id": "serial-pharmaceutical",
   "metadata": {},
   "outputs": [],
   "source": [
    "# Function to properly pad images\n",
    "# Input: Patient, current Y_Length, max y_length in Y direction, desired x and y resolution\n",
    "# Output: Resized and padded image\n",
    "def pad(image,d_x_res,d_y_res,C_Length,max_length):\n",
    "    num_frames = image.shape[2]\n",
    "    p = d_y_res*(C_Length/max_length)\n",
    "    c_y_res = image.shape[0]\n",
    "    scale = p/c_y_res\n",
    "    resized_image = np.zeros((d_x_res,d_y_res,num_frames))\n",
    "    for j in range(num_frames):\n",
    "        frame = image[:,:,j]\n",
    "        resized_frame = rescale(frame,scale)\n",
    "        pad_row = (256-resized_frame.shape[0])/2\n",
    "        pad_col = (256-resized_frame.shape[1])/2\n",
    "        padded_frame = np.pad(resized_frame,((math.floor(pad_row),math.ceil(pad_row)),\n",
    "                                             (math.floor(pad_col),math.ceil(pad_col))),'constant')\n",
    "        resized_image[:,:,j] = padded_frame\n",
    "    return resized_image"
   ]
  },
  {
   "cell_type": "markdown",
   "id": "governing-leave",
   "metadata": {},
   "source": [
    "## Frame Selection Function"
   ]
  },
  {
   "cell_type": "code",
   "execution_count": 3,
   "id": "minimal-fraud",
   "metadata": {},
   "outputs": [],
   "source": [
    "# Function to take images with 50 frames and reduce to 30 frames\n",
    "# Input: 50 frame image in the form of a 3D np.array\n",
    "# Output: 30 frame image in the form of a 3D np.array\n",
    "\n",
    "def frame_selection(image):\n",
    "    reduced_frames = np.empty((image.shape[0],image.shape[1],30))\n",
    "    np.random.seed(10)\n",
    "    odd_indices = np.array([1 + 2*k for k in range(25)])\n",
    "    even_indices = np.array([2*k for k in range(26)])\n",
    "    random_indices = np.random.choice(even_indices,5,replace = False)\n",
    "    all_indices = np.sort(np.concatenate((odd_indices,random_indices)))\n",
    "    for i, index in enumerate(all_indices):\n",
    "        reduced_frames[:,:,i] = image[:,:,index]\n",
    "    return reduced_frames"
   ]
  },
  {
   "cell_type": "markdown",
   "id": "extraordinary-special",
   "metadata": {},
   "source": [
    "## Add Dimension Function"
   ]
  },
  {
   "cell_type": "code",
   "execution_count": 2,
   "id": "scheduled-knock",
   "metadata": {},
   "outputs": [],
   "source": [
    "# Function to add 4th dimension to image\n",
    "def add_dim(image, label):\n",
    "    \"\"\"Process image by adding a channel.\"\"\"\n",
    "    processed_image = tf.expand_dims(image, axis=3)\n",
    "    return processed_image, label"
   ]
  },
  {
   "cell_type": "code",
   "execution_count": 1,
   "id": "aggressive-suite",
   "metadata": {},
   "outputs": [],
   "source": [
    "def standardize(x):\n",
    "    mu_image = []\n",
    "    mu = []\n",
    "    skew = []\n",
    "    for i in range(training_df.shape[0]):\n",
    "        image_vec = np.ravel(training_df.Image[i])\n",
    "        # skew.append(stats.skew(image_vec))\n",
    "        percentiles = np.percentile(image_vec,[0,99])\n",
    "        pixels = image_vec[(image_vec>=percentiles[0]) & (image_vec<= percentiles[1])]\n",
    "        mu_image.append(np.mean(pixels))\n",
    "        standard = 512*((pixels - percentiles[0])/(percentiles[1] - percentiles[0]))\n",
    "        # mode2 = standard[standard > np.mean(standard)]\n",
    "        mu.append(np.mean(standard))"
   ]
  },
  {
   "cell_type": "code",
   "execution_count": null,
   "id": "large-delight",
   "metadata": {},
   "outputs": [],
   "source": []
  },
  {
   "cell_type": "code",
   "execution_count": null,
   "id": "convenient-chrome",
   "metadata": {},
   "outputs": [],
   "source": []
  },
  {
   "cell_type": "code",
   "execution_count": null,
   "id": "formal-million",
   "metadata": {},
   "outputs": [],
   "source": []
  }
 ],
 "metadata": {
  "kernelspec": {
   "display_name": "Python 3",
   "language": "python",
   "name": "python3"
  },
  "language_info": {
   "codemirror_mode": {
    "name": "ipython",
    "version": 3
   },
   "file_extension": ".py",
   "mimetype": "text/x-python",
   "name": "python",
   "nbconvert_exporter": "python",
   "pygments_lexer": "ipython3",
   "version": "3.8.5"
  }
 },
 "nbformat": 4,
 "nbformat_minor": 5
}
