{
 "cells": [
  {
   "cell_type": "code",
   "execution_count": null,
   "id": "second-explosion",
   "metadata": {},
   "outputs": [],
   "source": [
    "# Thresholding using GMM\n",
    "k = 50\n",
    "image = crop_images[k]\n",
    "mask = crop_masks[k]\n",
    "pixels = []\n",
    "for i in range(image.shape[2]):\n",
    "    im_slice = image[:,:,i]\n",
    "    roi = im_slice*mask\n",
    "    # Gaussian filtering\n",
    "    blur = cv2.GaussianBlur(roi,(5,5),0)\n",
    "    pixels = pixels + (np.ndarray.tolist(blur[mask == 1]))\n",
    "pixels = np.asarray(pixels)    \n",
    "p_99 = np.percentile(pixels,99)\n",
    "p_clip = pixels[pixels <= p_99]"
   ]
  },
  {
   "cell_type": "code",
   "execution_count": null,
   "id": "practical-wellington",
   "metadata": {},
   "outputs": [],
   "source": [
    "x = np.linspace(np.min(p), np.max(p), p.shape[0])\n",
    "logprob = M_best.score_samples(x.reshape(-1, 1))\n",
    "responsibilities = M_best.predict_proba(x.reshape(-1, 1))\n",
    "pdf = np.exp(logprob)\n",
    "\n",
    "plt.hist(p, 100, density=True, histtype='stepfilled', alpha=0.4)\n",
    "plt.plot(x, pdf, '-k')"
   ]
  },
  {
   "cell_type": "code",
   "execution_count": null,
   "id": "micro-suspect",
   "metadata": {},
   "outputs": [],
   "source": [
    "M_best = GMM.fit(p)"
   ]
  },
  {
   "cell_type": "code",
   "execution_count": null,
   "id": "separated-harvard",
   "metadata": {},
   "outputs": [],
   "source": [
    "from sklearn.mixture import GaussianMixture\n",
    "GMM = GaussianMixture(n_components = 2)"
   ]
  }
 ],
 "metadata": {
  "kernelspec": {
   "display_name": "Python 3",
   "language": "python",
   "name": "python3"
  },
  "language_info": {
   "codemirror_mode": {
    "name": "ipython",
    "version": 3
   },
   "file_extension": ".py",
   "mimetype": "text/x-python",
   "name": "python",
   "nbconvert_exporter": "python",
   "pygments_lexer": "ipython3",
   "version": "3.8.5"
  }
 },
 "nbformat": 4,
 "nbformat_minor": 5
}
